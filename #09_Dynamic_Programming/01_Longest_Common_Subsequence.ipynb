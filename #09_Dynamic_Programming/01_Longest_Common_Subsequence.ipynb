{
 "cells": [
  {
   "cell_type": "code",
   "execution_count": 1,
   "id": "8a08aa1d",
   "metadata": {},
   "outputs": [],
   "source": [
    "dp_table_blue = [\"b\", \"l\", \"u\", \"e\"]\n",
    "dp_table_clues = [\"c\", \"l\", \"u\", \"e\", \"s\"]"
   ]
  },
  {
   "cell_type": "code",
   "execution_count": 2,
   "id": "f789f861",
   "metadata": {
    "scrolled": true
   },
   "outputs": [
    {
     "data": {
      "text/plain": [
       "[[0, 0, 0, 0], [0, 0, 0, 0], [0, 0, 0, 0], [0, 0, 0, 0], [0, 0, 0, 0]]"
      ]
     },
     "execution_count": 2,
     "metadata": {},
     "output_type": "execute_result"
    }
   ],
   "source": [
    "dp_table = [[0 for i in range(len(dp_table_blue))] for i in range(len(dp_table_clues))]\n",
    "dp_table"
   ]
  },
  {
   "cell_type": "code",
   "execution_count": 3,
   "id": "7aa00ba4",
   "metadata": {},
   "outputs": [],
   "source": [
    "for i in range(0, len(dp_table_blue)):\n",
    "    for j in range(0, len(dp_table_clues)):\n",
    "        if dp_table_clues[j] == dp_table_blue[i]:\n",
    "            dp_table[j][i] = dp_table[j-1][i-1] + 1\n",
    "        else:\n",
    "            dp_table[j][i] = max(dp_table[j-1][i], dp_table[j][i-1])"
   ]
  },
  {
   "cell_type": "code",
   "execution_count": 4,
   "id": "f02e7d93",
   "metadata": {},
   "outputs": [
    {
     "data": {
      "text/plain": [
       "[[0, 0, 0, 0], [0, 1, 1, 1], [0, 1, 2, 2], [0, 1, 2, 3], [0, 1, 2, 3]]"
      ]
     },
     "execution_count": 4,
     "metadata": {},
     "output_type": "execute_result"
    }
   ],
   "source": [
    "dp_table"
   ]
  }
 ],
 "metadata": {
  "kernelspec": {
   "display_name": "Python 3 (ipykernel)",
   "language": "python",
   "name": "python3"
  },
  "language_info": {
   "codemirror_mode": {
    "name": "ipython",
    "version": 3
   },
   "file_extension": ".py",
   "mimetype": "text/x-python",
   "name": "python",
   "nbconvert_exporter": "python",
   "pygments_lexer": "ipython3",
   "version": "3.9.12"
  }
 },
 "nbformat": 4,
 "nbformat_minor": 5
}
