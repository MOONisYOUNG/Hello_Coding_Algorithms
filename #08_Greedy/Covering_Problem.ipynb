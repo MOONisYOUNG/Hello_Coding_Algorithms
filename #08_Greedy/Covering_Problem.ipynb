{
 "cells": [
  {
   "cell_type": "code",
   "execution_count": 1,
   "id": "39471a36",
   "metadata": {},
   "outputs": [],
   "source": [
    "states_needed = set([\"mt\", \"wa\", \"or\", \"id\", \"nv\", \"ut\", \"ca\", \"az\"])"
   ]
  },
  {
   "cell_type": "code",
   "execution_count": 2,
   "id": "6941e137",
   "metadata": {},
   "outputs": [],
   "source": [
    "stations = {}\n",
    "\n",
    "stations[\"kone\"] = set([\"id\", \"nv\", \"ut\"])\n",
    "stations[\"ktwo\"] = set([\"wa\", \"id\", \"mt\"])\n",
    "stations[\"kthree\"] = set([\"or\", \"nv\", \"ca\"])\n",
    "stations[\"kfour\"] = set([\"nv\", \"ut\"])\n",
    "stations[\"kfive\"] = set([\"ca\", \"az\"])"
   ]
  },
  {
   "cell_type": "code",
   "execution_count": 3,
   "id": "ec4667b3",
   "metadata": {},
   "outputs": [],
   "source": [
    "final_stations = set()"
   ]
  },
  {
   "cell_type": "code",
   "execution_count": 4,
   "id": "75382875",
   "metadata": {},
   "outputs": [],
   "source": [
    "best_station = None\n",
    "states_covered = set()\n",
    "\n",
    "while states_needed:\n",
    "    best_station = None\n",
    "    states_covered = set()\n",
    "    for station, states_for_station in stations.items():\n",
    "        covered = states_needed & states_for_station\n",
    "        if len(covered) > len(states_covered):\n",
    "            best_station = station\n",
    "            states_covered = covered\n",
    "            \n",
    "    states_needed -= states_covered\n",
    "    final_stations.add(best_station)"
   ]
  },
  {
   "cell_type": "code",
   "execution_count": 5,
   "id": "57d77492",
   "metadata": {},
   "outputs": [
    {
     "name": "stdout",
     "output_type": "stream",
     "text": [
      "{'kone', 'ktwo', 'kthree', 'kfive'}\n"
     ]
    }
   ],
   "source": [
    "print(final_stations)"
   ]
  }
 ],
 "metadata": {
  "kernelspec": {
   "display_name": "Python 3 (ipykernel)",
   "language": "python",
   "name": "python3"
  },
  "language_info": {
   "codemirror_mode": {
    "name": "ipython",
    "version": 3
   },
   "file_extension": ".py",
   "mimetype": "text/x-python",
   "name": "python",
   "nbconvert_exporter": "python",
   "pygments_lexer": "ipython3",
   "version": "3.9.12"
  }
 },
 "nbformat": 4,
 "nbformat_minor": 5
}
